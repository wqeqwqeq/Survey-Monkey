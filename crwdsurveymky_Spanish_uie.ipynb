{
 "cells": [
  {
   "cell_type": "markdown",
   "metadata": {},
   "source": [
    "# Project: CRWD Survey Monkey (organized)\n",
    "### Author: <font color ='blue'>Xiaojun Yao (Uie)"
   ]
  },
  {
   "cell_type": "markdown",
   "metadata": {},
   "source": [
    "# <font color='blue'> Import Packages"
   ]
  },
  {
   "cell_type": "code",
   "execution_count": 33,
   "metadata": {},
   "outputs": [],
   "source": [
    "#import surveymonty\n",
    "import requests\n",
    "import json\n",
    "import random\n",
    "from itertools import product\n",
    "\n",
    "import time\n",
    "import datetime\n",
    "\n",
    "import pandas as pd\n",
    "import numpy as np"
   ]
  },
  {
   "cell_type": "markdown",
   "metadata": {},
   "source": [
    "#### <font color='red'> most important packages <font color='black'>(includes all the functions): process_functions.py"
   ]
  },
  {
   "cell_type": "code",
   "execution_count": 34,
   "metadata": {},
   "outputs": [],
   "source": [
    "from process_functions import *"
   ]
  },
  {
   "cell_type": "markdown",
   "metadata": {},
   "source": [
    "# <font color='blue'> 0.0 Import & Translate Dataset"
   ]
  },
  {
   "cell_type": "code",
   "execution_count": 35,
   "metadata": {},
   "outputs": [],
   "source": [
    "df=pd.read_csv('wr2.csv')"
   ]
  },
  {
   "cell_type": "code",
   "execution_count": 36,
   "metadata": {},
   "outputs": [],
   "source": [
    "def splitt(str):\n",
    "    return str.split('+')[-1]"
   ]
  },
  {
   "cell_type": "code",
   "execution_count": 37,
   "metadata": {
    "scrolled": true
   },
   "outputs": [
    {
     "data": {
      "text/html": [
       "<div>\n",
       "<style scoped>\n",
       "    .dataframe tbody tr th:only-of-type {\n",
       "        vertical-align: middle;\n",
       "    }\n",
       "\n",
       "    .dataframe tbody tr th {\n",
       "        vertical-align: top;\n",
       "    }\n",
       "\n",
       "    .dataframe thead th {\n",
       "        text-align: right;\n",
       "    }\n",
       "</style>\n",
       "<table border=\"1\" class=\"dataframe\">\n",
       "  <thead>\n",
       "    <tr style=\"text-align: right;\">\n",
       "      <th></th>\n",
       "      <th>ANSWER ID</th>\n",
       "      <th>METRIC NAME</th>\n",
       "      <th>COMPANY NAME</th>\n",
       "      <th>YEAR</th>\n",
       "      <th>VALUE</th>\n",
       "      <th>OLD METRIC NAME</th>\n",
       "    </tr>\n",
       "  </thead>\n",
       "  <tbody>\n",
       "    <tr>\n",
       "      <th>0</th>\n",
       "      <td>2233010.0</td>\n",
       "      <td>Gross Profit</td>\n",
       "      <td>Danaher</td>\n",
       "      <td>2012</td>\n",
       "      <td>9414300000</td>\n",
       "      <td>US Securities &amp; Exchange Comission+Gross Profit</td>\n",
       "    </tr>\n",
       "    <tr>\n",
       "      <th>1</th>\n",
       "      <td>2233013.0</td>\n",
       "      <td>Gross Profit</td>\n",
       "      <td>Danaher</td>\n",
       "      <td>2015</td>\n",
       "      <td>10762500000</td>\n",
       "      <td>US Securities &amp; Exchange Comission+Gross Profit</td>\n",
       "    </tr>\n",
       "    <tr>\n",
       "      <th>2</th>\n",
       "      <td>2233016.0</td>\n",
       "      <td>Gross Profit</td>\n",
       "      <td>Danaher</td>\n",
       "      <td>2014</td>\n",
       "      <td>9892600000</td>\n",
       "      <td>US Securities &amp; Exchange Comission+Gross Profit</td>\n",
       "    </tr>\n",
       "    <tr>\n",
       "      <th>3</th>\n",
       "      <td>2233001.0</td>\n",
       "      <td>Gross Profit</td>\n",
       "      <td>Danaher</td>\n",
       "      <td>2011</td>\n",
       "      <td>8176600000</td>\n",
       "      <td>US Securities &amp; Exchange Comission+Gross Profit</td>\n",
       "    </tr>\n",
       "    <tr>\n",
       "      <th>4</th>\n",
       "      <td>2233004.0</td>\n",
       "      <td>Gross Profit</td>\n",
       "      <td>Danaher</td>\n",
       "      <td>2010</td>\n",
       "      <td>6404500000</td>\n",
       "      <td>US Securities &amp; Exchange Comission+Gross Profit</td>\n",
       "    </tr>\n",
       "  </tbody>\n",
       "</table>\n",
       "</div>"
      ],
      "text/plain": [
       "   ANSWER ID   METRIC NAME COMPANY NAME  YEAR        VALUE  \\\n",
       "0  2233010.0  Gross Profit      Danaher  2012   9414300000   \n",
       "1  2233013.0  Gross Profit      Danaher  2015  10762500000   \n",
       "2  2233016.0  Gross Profit      Danaher  2014   9892600000   \n",
       "3  2233001.0  Gross Profit      Danaher  2011   8176600000   \n",
       "4  2233004.0  Gross Profit      Danaher  2010   6404500000   \n",
       "\n",
       "                                   OLD METRIC NAME  \n",
       "0  US Securities & Exchange Comission+Gross Profit  \n",
       "1  US Securities & Exchange Comission+Gross Profit  \n",
       "2  US Securities & Exchange Comission+Gross Profit  \n",
       "3  US Securities & Exchange Comission+Gross Profit  \n",
       "4  US Securities & Exchange Comission+Gross Profit  "
      ]
     },
     "execution_count": 37,
     "metadata": {},
     "output_type": "execute_result"
    }
   ],
   "source": [
    "df=pd.read_csv('wr2.csv')\n",
    "df[\"OLD METRIC NAME\"] = df[\"METRIC NAME\"]\n",
    "df[\"METRIC NAME\"]=df[\"METRIC NAME\"].apply(lambda x:splitt(x))\n",
    "df.to_csv('NEW_RATE.csv')\n",
    "df.head(5)"
   ]
  },
  {
   "cell_type": "code",
   "execution_count": 38,
   "metadata": {},
   "outputs": [],
   "source": [
    "#import goslate\n",
    "#def translate_to_spanish(x):\n",
    "#    return gs.translate(x,'de')\n",
    "#df['SPANISH METRIC NAME']=df['METRIC NAME'].apply(lambda x: translate_to_spanish(x))"
   ]
  },
  {
   "cell_type": "code",
   "execution_count": 39,
   "metadata": {},
   "outputs": [
    {
     "data": {
      "text/html": [
       "<div>\n",
       "<style scoped>\n",
       "    .dataframe tbody tr th:only-of-type {\n",
       "        vertical-align: middle;\n",
       "    }\n",
       "\n",
       "    .dataframe tbody tr th {\n",
       "        vertical-align: top;\n",
       "    }\n",
       "\n",
       "    .dataframe thead th {\n",
       "        text-align: right;\n",
       "    }\n",
       "</style>\n",
       "<table border=\"1\" class=\"dataframe\">\n",
       "  <thead>\n",
       "    <tr style=\"text-align: right;\">\n",
       "      <th></th>\n",
       "      <th>METRIC NAME</th>\n",
       "      <th>SPANISH METRIC NAME</th>\n",
       "    </tr>\n",
       "  </thead>\n",
       "  <tbody>\n",
       "    <tr>\n",
       "      <th>0</th>\n",
       "      <td>Gross Profit</td>\n",
       "      <td>Beneficio bruto</td>\n",
       "    </tr>\n",
       "    <tr>\n",
       "      <th>1</th>\n",
       "      <td>Research and Development Expense</td>\n",
       "      <td>Gastos de investigación y desarrollo</td>\n",
       "    </tr>\n",
       "    <tr>\n",
       "      <th>2</th>\n",
       "      <td>Unrecognized Tax Benefits Reductions Resulting...</td>\n",
       "      <td>Reducciones de beneficios fiscales no reconoci...</td>\n",
       "    </tr>\n",
       "    <tr>\n",
       "      <th>3</th>\n",
       "      <td>Effective Income Tax Rate Continuing Operations</td>\n",
       "      <td>Operaciones continuas del tipo efectivo del im...</td>\n",
       "    </tr>\n",
       "    <tr>\n",
       "      <th>4</th>\n",
       "      <td>Cost of Goods and Services Sold</td>\n",
       "      <td>Costo de bienes y servicios vendidos</td>\n",
       "    </tr>\n",
       "  </tbody>\n",
       "</table>\n",
       "</div>"
      ],
      "text/plain": [
       "                                         METRIC NAME  \\\n",
       "0                                       Gross Profit   \n",
       "1                   Research and Development Expense   \n",
       "2  Unrecognized Tax Benefits Reductions Resulting...   \n",
       "3    Effective Income Tax Rate Continuing Operations   \n",
       "4                    Cost of Goods and Services Sold   \n",
       "\n",
       "                                 SPANISH METRIC NAME  \n",
       "0                                    Beneficio bruto  \n",
       "1               Gastos de investigación y desarrollo  \n",
       "2  Reducciones de beneficios fiscales no reconoci...  \n",
       "3  Operaciones continuas del tipo efectivo del im...  \n",
       "4               Costo de bienes y servicios vendidos  "
      ]
     },
     "execution_count": 39,
     "metadata": {},
     "output_type": "execute_result"
    }
   ],
   "source": [
    "df1=df[['METRIC NAME']].drop_duplicates().reset_index(drop=True)\n",
    "df1.to_excel('translate.xlsx')\n",
    "df_spanish=pd.read_excel('translated.xlsx')\n",
    "df_spanish.head()"
   ]
  },
  {
   "cell_type": "code",
   "execution_count": 40,
   "metadata": {
    "scrolled": true
   },
   "outputs": [
    {
     "data": {
      "text/html": [
       "<div>\n",
       "<style scoped>\n",
       "    .dataframe tbody tr th:only-of-type {\n",
       "        vertical-align: middle;\n",
       "    }\n",
       "\n",
       "    .dataframe tbody tr th {\n",
       "        vertical-align: top;\n",
       "    }\n",
       "\n",
       "    .dataframe thead th {\n",
       "        text-align: right;\n",
       "    }\n",
       "</style>\n",
       "<table border=\"1\" class=\"dataframe\">\n",
       "  <thead>\n",
       "    <tr style=\"text-align: right;\">\n",
       "      <th></th>\n",
       "      <th>ANSWER ID</th>\n",
       "      <th>METRIC NAME</th>\n",
       "      <th>COMPANY NAME</th>\n",
       "      <th>YEAR</th>\n",
       "      <th>VALUE</th>\n",
       "      <th>OLD METRIC NAME</th>\n",
       "      <th>SPANISH METRIC NAME</th>\n",
       "    </tr>\n",
       "  </thead>\n",
       "  <tbody>\n",
       "    <tr>\n",
       "      <th>0</th>\n",
       "      <td>2233010.0</td>\n",
       "      <td>Gross Profit</td>\n",
       "      <td>Danaher</td>\n",
       "      <td>2012</td>\n",
       "      <td>9414300000</td>\n",
       "      <td>US Securities &amp; Exchange Comission+Gross Profit</td>\n",
       "      <td>Beneficio bruto</td>\n",
       "    </tr>\n",
       "    <tr>\n",
       "      <th>1</th>\n",
       "      <td>2233013.0</td>\n",
       "      <td>Gross Profit</td>\n",
       "      <td>Danaher</td>\n",
       "      <td>2015</td>\n",
       "      <td>10762500000</td>\n",
       "      <td>US Securities &amp; Exchange Comission+Gross Profit</td>\n",
       "      <td>Beneficio bruto</td>\n",
       "    </tr>\n",
       "    <tr>\n",
       "      <th>2</th>\n",
       "      <td>2233016.0</td>\n",
       "      <td>Gross Profit</td>\n",
       "      <td>Danaher</td>\n",
       "      <td>2014</td>\n",
       "      <td>9892600000</td>\n",
       "      <td>US Securities &amp; Exchange Comission+Gross Profit</td>\n",
       "      <td>Beneficio bruto</td>\n",
       "    </tr>\n",
       "    <tr>\n",
       "      <th>3</th>\n",
       "      <td>2233001.0</td>\n",
       "      <td>Gross Profit</td>\n",
       "      <td>Danaher</td>\n",
       "      <td>2011</td>\n",
       "      <td>8176600000</td>\n",
       "      <td>US Securities &amp; Exchange Comission+Gross Profit</td>\n",
       "      <td>Beneficio bruto</td>\n",
       "    </tr>\n",
       "    <tr>\n",
       "      <th>4</th>\n",
       "      <td>2233004.0</td>\n",
       "      <td>Gross Profit</td>\n",
       "      <td>Danaher</td>\n",
       "      <td>2010</td>\n",
       "      <td>6404500000</td>\n",
       "      <td>US Securities &amp; Exchange Comission+Gross Profit</td>\n",
       "      <td>Beneficio bruto</td>\n",
       "    </tr>\n",
       "  </tbody>\n",
       "</table>\n",
       "</div>"
      ],
      "text/plain": [
       "   ANSWER ID   METRIC NAME COMPANY NAME  YEAR        VALUE  \\\n",
       "0  2233010.0  Gross Profit      Danaher  2012   9414300000   \n",
       "1  2233013.0  Gross Profit      Danaher  2015  10762500000   \n",
       "2  2233016.0  Gross Profit      Danaher  2014   9892600000   \n",
       "3  2233001.0  Gross Profit      Danaher  2011   8176600000   \n",
       "4  2233004.0  Gross Profit      Danaher  2010   6404500000   \n",
       "\n",
       "                                   OLD METRIC NAME SPANISH METRIC NAME  \n",
       "0  US Securities & Exchange Comission+Gross Profit     Beneficio bruto  \n",
       "1  US Securities & Exchange Comission+Gross Profit     Beneficio bruto  \n",
       "2  US Securities & Exchange Comission+Gross Profit     Beneficio bruto  \n",
       "3  US Securities & Exchange Comission+Gross Profit     Beneficio bruto  \n",
       "4  US Securities & Exchange Comission+Gross Profit     Beneficio bruto  "
      ]
     },
     "execution_count": 40,
     "metadata": {},
     "output_type": "execute_result"
    }
   ],
   "source": [
    "df_spanish = df.merge(df_spanish,on=['METRIC NAME'],how='left' )\n",
    "df_spanish.to_csv('NEW RATE SPANISH.CSV')\n",
    "df_spanish.head()"
   ]
  },
  {
   "cell_type": "code",
   "execution_count": 41,
   "metadata": {
    "scrolled": true
   },
   "outputs": [
    {
     "data": {
      "text/html": [
       "<div>\n",
       "<style scoped>\n",
       "    .dataframe tbody tr th:only-of-type {\n",
       "        vertical-align: middle;\n",
       "    }\n",
       "\n",
       "    .dataframe tbody tr th {\n",
       "        vertical-align: top;\n",
       "    }\n",
       "\n",
       "    .dataframe thead th {\n",
       "        text-align: right;\n",
       "    }\n",
       "</style>\n",
       "<table border=\"1\" class=\"dataframe\">\n",
       "  <thead>\n",
       "    <tr style=\"text-align: right;\">\n",
       "      <th></th>\n",
       "      <th>ANSWER ID</th>\n",
       "      <th>COMPANY NAME</th>\n",
       "      <th>YEAR</th>\n",
       "      <th>VALUE</th>\n",
       "      <th>METRIC NAME</th>\n",
       "    </tr>\n",
       "  </thead>\n",
       "  <tbody>\n",
       "    <tr>\n",
       "      <th>0</th>\n",
       "      <td>2233010.0</td>\n",
       "      <td>Danaher</td>\n",
       "      <td>2012</td>\n",
       "      <td>9414300000</td>\n",
       "      <td>Beneficio bruto</td>\n",
       "    </tr>\n",
       "    <tr>\n",
       "      <th>1</th>\n",
       "      <td>2233013.0</td>\n",
       "      <td>Danaher</td>\n",
       "      <td>2015</td>\n",
       "      <td>10762500000</td>\n",
       "      <td>Beneficio bruto</td>\n",
       "    </tr>\n",
       "    <tr>\n",
       "      <th>2</th>\n",
       "      <td>2233016.0</td>\n",
       "      <td>Danaher</td>\n",
       "      <td>2014</td>\n",
       "      <td>9892600000</td>\n",
       "      <td>Beneficio bruto</td>\n",
       "    </tr>\n",
       "    <tr>\n",
       "      <th>3</th>\n",
       "      <td>2233001.0</td>\n",
       "      <td>Danaher</td>\n",
       "      <td>2011</td>\n",
       "      <td>8176600000</td>\n",
       "      <td>Beneficio bruto</td>\n",
       "    </tr>\n",
       "    <tr>\n",
       "      <th>4</th>\n",
       "      <td>2233004.0</td>\n",
       "      <td>Danaher</td>\n",
       "      <td>2010</td>\n",
       "      <td>6404500000</td>\n",
       "      <td>Beneficio bruto</td>\n",
       "    </tr>\n",
       "  </tbody>\n",
       "</table>\n",
       "</div>"
      ],
      "text/plain": [
       "   ANSWER ID COMPANY NAME  YEAR        VALUE      METRIC NAME\n",
       "0  2233010.0      Danaher  2012   9414300000  Beneficio bruto\n",
       "1  2233013.0      Danaher  2015  10762500000  Beneficio bruto\n",
       "2  2233016.0      Danaher  2014   9892600000  Beneficio bruto\n",
       "3  2233001.0      Danaher  2011   8176600000  Beneficio bruto\n",
       "4  2233004.0      Danaher  2010   6404500000  Beneficio bruto"
      ]
     },
     "execution_count": 41,
     "metadata": {},
     "output_type": "execute_result"
    }
   ],
   "source": [
    "df = df_spanish.drop(['OLD METRIC NAME','METRIC NAME'], axis=1)\n",
    "df.rename(columns={'SPANISH METRIC NAME':'METRIC NAME'}, inplace=True)\n",
    "df.head()"
   ]
  },
  {
   "cell_type": "markdown",
   "metadata": {},
   "source": [
    "# <font color='blue'>1.0 Test (only sending 5 questions out)"
   ]
  },
  {
   "cell_type": "markdown",
   "metadata": {},
   "source": [
    "### this is the Spanish version survey: \n",
    "remember to use missing_value_<font color ='red'>es"
   ]
  },
  {
   "cell_type": "code",
   "execution_count": 42,
   "metadata": {
    "scrolled": true
   },
   "outputs": [
    {
     "data": {
      "text/html": [
       "<div>\n",
       "<style scoped>\n",
       "    .dataframe tbody tr th:only-of-type {\n",
       "        vertical-align: middle;\n",
       "    }\n",
       "\n",
       "    .dataframe tbody tr th {\n",
       "        vertical-align: top;\n",
       "    }\n",
       "\n",
       "    .dataframe thead th {\n",
       "        text-align: right;\n",
       "    }\n",
       "</style>\n",
       "<table border=\"1\" class=\"dataframe\">\n",
       "  <thead>\n",
       "    <tr style=\"text-align: right;\">\n",
       "      <th></th>\n",
       "      <th>ANSWER ID</th>\n",
       "      <th>COMPANY NAME</th>\n",
       "      <th>YEAR</th>\n",
       "      <th>VALUE</th>\n",
       "      <th>METRIC NAME</th>\n",
       "      <th>SURVEY QUESTIONS</th>\n",
       "      <th>QUESTIONID</th>\n",
       "    </tr>\n",
       "  </thead>\n",
       "  <tbody>\n",
       "    <tr>\n",
       "      <th>0</th>\n",
       "      <td>3579791.0</td>\n",
       "      <td>Telenor</td>\n",
       "      <td>2017</td>\n",
       "      <td>Unknown</td>\n",
       "      <td>Consumo de combustible procedente de fuentes r...</td>\n",
       "      <td>¿Tienes respuesta a Consumo de combustible pro...</td>\n",
       "      <td>201723200233</td>\n",
       "    </tr>\n",
       "    <tr>\n",
       "      <th>1</th>\n",
       "      <td>3579834.0</td>\n",
       "      <td>Telenor</td>\n",
       "      <td>2017</td>\n",
       "      <td>Unknown</td>\n",
       "      <td>Consumo de combustible procedente de fuentes n...</td>\n",
       "      <td>¿Tienes respuesta a Consumo de combustible pro...</td>\n",
       "      <td>201723200232</td>\n",
       "    </tr>\n",
       "    <tr>\n",
       "      <th>2</th>\n",
       "      <td>NaN</td>\n",
       "      <td>Telenor</td>\n",
       "      <td>2017</td>\n",
       "      <td>Unknown</td>\n",
       "      <td>Porcentaje de combustible renovable utilizado</td>\n",
       "      <td>¿Tienes respuesta a Porcentaje de combustible ...</td>\n",
       "      <td>201723200814</td>\n",
       "    </tr>\n",
       "    <tr>\n",
       "      <th>3</th>\n",
       "      <td>NaN</td>\n",
       "      <td>Telenor</td>\n",
       "      <td>2017</td>\n",
       "      <td>Unknown</td>\n",
       "      <td>Energías Renovables (%)</td>\n",
       "      <td>¿Tienes respuesta a Energías Renovables (%)? E...</td>\n",
       "      <td>201723200423</td>\n",
       "    </tr>\n",
       "    <tr>\n",
       "      <th>4</th>\n",
       "      <td>NaN</td>\n",
       "      <td>Telenor</td>\n",
       "      <td>2017</td>\n",
       "      <td>Unknown</td>\n",
       "      <td>energía proviene de fuentes renovables</td>\n",
       "      <td>¿Tienes respuesta a energía proviene de fuente...</td>\n",
       "      <td>201723201093</td>\n",
       "    </tr>\n",
       "  </tbody>\n",
       "</table>\n",
       "</div>"
      ],
      "text/plain": [
       "   ANSWER ID COMPANY NAME  YEAR    VALUE  \\\n",
       "0  3579791.0      Telenor  2017  Unknown   \n",
       "1  3579834.0      Telenor  2017  Unknown   \n",
       "2        NaN      Telenor  2017  Unknown   \n",
       "3        NaN      Telenor  2017  Unknown   \n",
       "4        NaN      Telenor  2017  Unknown   \n",
       "\n",
       "                                         METRIC NAME  \\\n",
       "0  Consumo de combustible procedente de fuentes r...   \n",
       "1  Consumo de combustible procedente de fuentes n...   \n",
       "2      Porcentaje de combustible renovable utilizado   \n",
       "3                            Energías Renovables (%)   \n",
       "4             energía proviene de fuentes renovables   \n",
       "\n",
       "                                    SURVEY QUESTIONS    QUESTIONID  \n",
       "0  ¿Tienes respuesta a Consumo de combustible pro...  201723200233  \n",
       "1  ¿Tienes respuesta a Consumo de combustible pro...  201723200232  \n",
       "2  ¿Tienes respuesta a Porcentaje de combustible ...  201723200814  \n",
       "3  ¿Tienes respuesta a Energías Renovables (%)? E...  201723200423  \n",
       "4  ¿Tienes respuesta a energía proviene de fuente...  201723201093  "
      ]
     },
     "execution_count": 42,
     "metadata": {},
     "output_type": "execute_result"
    }
   ],
   "source": [
    "table0 = missing_value_es(df,2017,'Telenor')\n",
    "testing_dataset = table0[0]\n",
    "questions_list = table0[1]\n",
    "recipients_df = table0[2]\n",
    "testing_dataset.head()"
   ]
  },
  {
   "cell_type": "code",
   "execution_count": 43,
   "metadata": {},
   "outputs": [
    {
     "data": {
      "text/plain": [
       "27"
      ]
     },
     "execution_count": 43,
     "metadata": {},
     "output_type": "execute_result"
    }
   ],
   "source": [
    "len(questions_list)"
   ]
  },
  {
   "cell_type": "markdown",
   "metadata": {},
   "source": [
    "## test with 5 questions\n",
    "* Create a new testing recipients_df that contains my own email"
   ]
  },
  {
   "cell_type": "code",
   "execution_count": 44,
   "metadata": {},
   "outputs": [],
   "source": [
    "testing_question = questions_list[0:5]"
   ]
  },
  {
   "cell_type": "markdown",
   "metadata": {},
   "source": [
    "## Create a testing recipients_df using personal emails"
   ]
  },
  {
   "cell_type": "code",
   "execution_count": 45,
   "metadata": {},
   "outputs": [
    {
     "data": {
      "text/html": [
       "<div>\n",
       "<style scoped>\n",
       "    .dataframe tbody tr th:only-of-type {\n",
       "        vertical-align: middle;\n",
       "    }\n",
       "\n",
       "    .dataframe tbody tr th {\n",
       "        vertical-align: top;\n",
       "    }\n",
       "\n",
       "    .dataframe thead th {\n",
       "        text-align: right;\n",
       "    }\n",
       "</style>\n",
       "<table border=\"1\" class=\"dataframe\">\n",
       "  <thead>\n",
       "    <tr style=\"text-align: right;\">\n",
       "      <th></th>\n",
       "      <th>COMPANY NAME</th>\n",
       "      <th>COMPANY ID</th>\n",
       "      <th>email</th>\n",
       "      <th>first_name</th>\n",
       "      <th>last_name</th>\n",
       "    </tr>\n",
       "  </thead>\n",
       "  <tbody>\n",
       "    <tr>\n",
       "      <th>753</th>\n",
       "      <td>Danaher</td>\n",
       "      <td>753</td>\n",
       "      <td>danaher@gmail.com</td>\n",
       "      <td></td>\n",
       "      <td></td>\n",
       "    </tr>\n",
       "  </tbody>\n",
       "</table>\n",
       "</div>"
      ],
      "text/plain": [
       "    COMPANY NAME  COMPANY ID              email first_name last_name\n",
       "753      Danaher         753  danaher@gmail.com                     "
      ]
     },
     "execution_count": 45,
     "metadata": {},
     "output_type": "execute_result"
    }
   ],
   "source": [
    "recipients_df"
   ]
  },
  {
   "cell_type": "code",
   "execution_count": 46,
   "metadata": {},
   "outputs": [],
   "source": [
    "data = [['xiaojunyao1199@outlook.com','oh','yes']]\n",
    "t_recipients_df = pd.DataFrame(data=data, columns=['email','first_name','last_name'])"
   ]
  },
  {
   "cell_type": "code",
   "execution_count": 47,
   "metadata": {},
   "outputs": [
    {
     "data": {
      "text/html": [
       "<div>\n",
       "<style scoped>\n",
       "    .dataframe tbody tr th:only-of-type {\n",
       "        vertical-align: middle;\n",
       "    }\n",
       "\n",
       "    .dataframe tbody tr th {\n",
       "        vertical-align: top;\n",
       "    }\n",
       "\n",
       "    .dataframe thead th {\n",
       "        text-align: right;\n",
       "    }\n",
       "</style>\n",
       "<table border=\"1\" class=\"dataframe\">\n",
       "  <thead>\n",
       "    <tr style=\"text-align: right;\">\n",
       "      <th></th>\n",
       "      <th>email</th>\n",
       "      <th>first_name</th>\n",
       "      <th>last_name</th>\n",
       "    </tr>\n",
       "  </thead>\n",
       "  <tbody>\n",
       "    <tr>\n",
       "      <th>0</th>\n",
       "      <td>xiaojunyao1199@outlook.com</td>\n",
       "      <td>oh</td>\n",
       "      <td>yes</td>\n",
       "    </tr>\n",
       "  </tbody>\n",
       "</table>\n",
       "</div>"
      ],
      "text/plain": [
       "                        email first_name last_name\n",
       "0  xiaojunyao1199@outlook.com         oh       yes"
      ]
     },
     "execution_count": 47,
     "metadata": {},
     "output_type": "execute_result"
    }
   ],
   "source": [
    "t_recipients_df"
   ]
  },
  {
   "cell_type": "markdown",
   "metadata": {},
   "source": [
    "## Apply functions"
   ]
  },
  {
   "cell_type": "code",
   "execution_count": 48,
   "metadata": {},
   "outputs": [
    {
     "name": "stdout",
     "output_type": "stream",
     "text": [
      "survey id: 182831637\n",
      "page id: 85298089\n",
      "question id: 310454953\n",
      "question id: 310454968\n",
      "question id: 310454973\n",
      "question id: 310454985\n",
      "question id: 310454990\n",
      "collector id: 240746878\n",
      "message id: 63079333\n"
     ]
    }
   ],
   "source": [
    "testing_results=process('test_survey_spanish', testing_question, t_recipients_df)"
   ]
  },
  {
   "cell_type": "code",
   "execution_count": 49,
   "metadata": {
    "scrolled": true
   },
   "outputs": [
    {
     "data": {
      "text/html": [
       "<div>\n",
       "<style scoped>\n",
       "    .dataframe tbody tr th:only-of-type {\n",
       "        vertical-align: middle;\n",
       "    }\n",
       "\n",
       "    .dataframe tbody tr th {\n",
       "        vertical-align: top;\n",
       "    }\n",
       "\n",
       "    .dataframe thead th {\n",
       "        text-align: right;\n",
       "    }\n",
       "</style>\n",
       "<table border=\"1\" class=\"dataframe\">\n",
       "  <thead>\n",
       "    <tr style=\"text-align: right;\">\n",
       "      <th></th>\n",
       "      <th>¿Tienes respuesta a Consumo de combustible procedente de fuentes renovables (G4-EN3-b)? En caso afirmativo, por favor especifique; Si no, deje la pregunta en blanco.</th>\n",
       "      <th>¿Tienes respuesta a Consumo de combustible procedente de fuentes no renovables (G4-EN3-a)? En caso afirmativo, por favor especifique; Si no, deje la pregunta en blanco.</th>\n",
       "      <th>¿Tienes respuesta a Porcentaje de combustible renovable utilizado? En caso afirmativo, por favor especifique; Si no, deje la pregunta en blanco.</th>\n",
       "      <th>¿Tienes respuesta a Energías Renovables (%)? En caso afirmativo, por favor especifique; Si no, deje la pregunta en blanco.</th>\n",
       "      <th>collector_id</th>\n",
       "      <th>date_created</th>\n",
       "      <th>date_modified</th>\n",
       "      <th>email_address</th>\n",
       "      <th>first_name</th>\n",
       "      <th>id</th>\n",
       "      <th>ip_address</th>\n",
       "      <th>last_name</th>\n",
       "      <th>survey_id</th>\n",
       "    </tr>\n",
       "  </thead>\n",
       "  <tbody>\n",
       "    <tr>\n",
       "      <th>oh_yes_response</th>\n",
       "      <td>oh</td>\n",
       "      <td>yes</td>\n",
       "      <td>spanish</td>\n",
       "      <td>ok</td>\n",
       "      <td>240746878</td>\n",
       "      <td>2019-07-10T20:49:40+00:00</td>\n",
       "      <td>2019-07-10T20:49:52+00:00</td>\n",
       "      <td>xiaojunyao1199@outlook.com</td>\n",
       "      <td>oh</td>\n",
       "      <td>10851687003</td>\n",
       "      <td>4.35.91.70</td>\n",
       "      <td>yes</td>\n",
       "      <td>182831637</td>\n",
       "    </tr>\n",
       "  </tbody>\n",
       "</table>\n",
       "</div>"
      ],
      "text/plain": [
       "                ¿Tienes respuesta a Consumo de combustible procedente de fuentes renovables (G4-EN3-b)? En caso afirmativo, por favor especifique; Si no, deje la pregunta en blanco.  \\\n",
       "oh_yes_response                                                 oh                                                                                                                      \n",
       "\n",
       "                ¿Tienes respuesta a Consumo de combustible procedente de fuentes no renovables (G4-EN3-a)? En caso afirmativo, por favor especifique; Si no, deje la pregunta en blanco.  \\\n",
       "oh_yes_response                                                yes                                                                                                                         \n",
       "\n",
       "                ¿Tienes respuesta a Porcentaje de combustible renovable utilizado? En caso afirmativo, por favor especifique; Si no, deje la pregunta en blanco.  \\\n",
       "oh_yes_response                                            spanish                                                                                                 \n",
       "\n",
       "                ¿Tienes respuesta a Energías Renovables (%)? En caso afirmativo, por favor especifique; Si no, deje la pregunta en blanco.  \\\n",
       "oh_yes_response                                                 ok                                                                           \n",
       "\n",
       "                collector_id               date_created  \\\n",
       "oh_yes_response    240746878  2019-07-10T20:49:40+00:00   \n",
       "\n",
       "                             date_modified               email_address  \\\n",
       "oh_yes_response  2019-07-10T20:49:52+00:00  xiaojunyao1199@outlook.com   \n",
       "\n",
       "                first_name           id  ip_address last_name  survey_id  \n",
       "oh_yes_response         oh  10851687003  4.35.91.70       yes  182831637  "
      ]
     },
     "execution_count": 49,
     "metadata": {},
     "output_type": "execute_result"
    }
   ],
   "source": [
    "result_answer=after_survey(testing_results)\n",
    "result_answer"
   ]
  },
  {
   "cell_type": "code",
   "execution_count": 53,
   "metadata": {
    "scrolled": false
   },
   "outputs": [
    {
     "data": {
      "text/html": [
       "<div>\n",
       "<style scoped>\n",
       "    .dataframe tbody tr th:only-of-type {\n",
       "        vertical-align: middle;\n",
       "    }\n",
       "\n",
       "    .dataframe tbody tr th {\n",
       "        vertical-align: top;\n",
       "    }\n",
       "\n",
       "    .dataframe thead th {\n",
       "        text-align: right;\n",
       "    }\n",
       "</style>\n",
       "<table border=\"1\" class=\"dataframe\">\n",
       "  <thead>\n",
       "    <tr style=\"text-align: right;\">\n",
       "      <th></th>\n",
       "      <th>SURVEY QUESTIONS</th>\n",
       "      <th>COMPANY NAME</th>\n",
       "      <th>YEAR</th>\n",
       "      <th>QUESTIONID</th>\n",
       "      <th>oh_yes_response</th>\n",
       "    </tr>\n",
       "  </thead>\n",
       "  <tbody>\n",
       "    <tr>\n",
       "      <th>0</th>\n",
       "      <td>¿Tienes respuesta a Consumo de combustible pro...</td>\n",
       "      <td>Telenor</td>\n",
       "      <td>2017</td>\n",
       "      <td>201723200232</td>\n",
       "      <td>yes</td>\n",
       "    </tr>\n",
       "    <tr>\n",
       "      <th>1</th>\n",
       "      <td>¿Tienes respuesta a Consumo de combustible pro...</td>\n",
       "      <td>Telenor</td>\n",
       "      <td>2017</td>\n",
       "      <td>201723200233</td>\n",
       "      <td>oh</td>\n",
       "    </tr>\n",
       "    <tr>\n",
       "      <th>2</th>\n",
       "      <td>¿Tienes respuesta a Energías Renovables (%)? E...</td>\n",
       "      <td>Telenor</td>\n",
       "      <td>2017</td>\n",
       "      <td>201723200423</td>\n",
       "      <td>ok</td>\n",
       "    </tr>\n",
       "    <tr>\n",
       "      <th>3</th>\n",
       "      <td>¿Tienes respuesta a Porcentaje de combustible ...</td>\n",
       "      <td>Telenor</td>\n",
       "      <td>2017</td>\n",
       "      <td>201723200814</td>\n",
       "      <td>spanish</td>\n",
       "    </tr>\n",
       "    <tr>\n",
       "      <th>4</th>\n",
       "      <td>¿Tienes respuesta a energía proviene de fuente...</td>\n",
       "      <td>Telenor</td>\n",
       "      <td>2017</td>\n",
       "      <td>201723201093</td>\n",
       "      <td>NaN</td>\n",
       "    </tr>\n",
       "  </tbody>\n",
       "</table>\n",
       "</div>"
      ],
      "text/plain": [
       "                                    SURVEY QUESTIONS COMPANY NAME  YEAR  \\\n",
       "0  ¿Tienes respuesta a Consumo de combustible pro...      Telenor  2017   \n",
       "1  ¿Tienes respuesta a Consumo de combustible pro...      Telenor  2017   \n",
       "2  ¿Tienes respuesta a Energías Renovables (%)? E...      Telenor  2017   \n",
       "3  ¿Tienes respuesta a Porcentaje de combustible ...      Telenor  2017   \n",
       "4  ¿Tienes respuesta a energía proviene de fuente...      Telenor  2017   \n",
       "\n",
       "     QUESTIONID oh_yes_response  \n",
       "0  201723200232             yes  \n",
       "1  201723200233              oh  \n",
       "2  201723200423              ok  \n",
       "3  201723200814         spanish  \n",
       "4  201723201093             NaN  "
      ]
     },
     "execution_count": 53,
     "metadata": {},
     "output_type": "execute_result"
    }
   ],
   "source": [
    "result_table = result_table(testing_dataset, result_answer, testing_question)\n",
    "result_table"
   ]
  },
  {
   "cell_type": "code",
   "execution_count": null,
   "metadata": {},
   "outputs": [],
   "source": []
  },
  {
   "cell_type": "code",
   "execution_count": null,
   "metadata": {},
   "outputs": [],
   "source": []
  }
 ],
 "metadata": {
  "kernelspec": {
   "display_name": "Python 3",
   "language": "python",
   "name": "python3"
  },
  "language_info": {
   "codemirror_mode": {
    "name": "ipython",
    "version": 3
   },
   "file_extension": ".py",
   "mimetype": "text/x-python",
   "name": "python",
   "nbconvert_exporter": "python",
   "pygments_lexer": "ipython3",
   "version": "3.6.5"
  }
 },
 "nbformat": 4,
 "nbformat_minor": 2
}
