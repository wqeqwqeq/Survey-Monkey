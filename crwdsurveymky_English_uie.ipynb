{
 "cells": [
  {
   "cell_type": "markdown",
   "metadata": {},
   "source": [
    "# Project: CRWD Survey Monkey (organized)\n",
    "## Object: organizate work from Zhehui Yuan & Yihao\n",
    "### Author: <font color ='blue'>Xiaojun Yao (Uie)"
   ]
  },
  {
   "cell_type": "markdown",
   "metadata": {},
   "source": [
    "### <font color='red'> Main Change: \n",
    "\n",
    "Recode the after_survey fuction() and create a result_table() function."
   ]
  },
  {
   "cell_type": "markdown",
   "metadata": {},
   "source": [
    "# <font color='blue'> Import Packages"
   ]
  },
  {
   "cell_type": "code",
   "execution_count": 1,
   "metadata": {},
   "outputs": [],
   "source": [
    "#import surveymonty\n",
    "import requests\n",
    "import json\n",
    "import random\n",
    "from itertools import product\n",
    "\n",
    "import time\n",
    "import datetime\n",
    "\n",
    "import pandas as pd\n",
    "import numpy as np"
   ]
  },
  {
   "cell_type": "markdown",
   "metadata": {},
   "source": [
    "#### <font color='red'> most important packages <font color='black'>(includes all the functions): process_functions.py"
   ]
  },
  {
   "cell_type": "code",
   "execution_count": 2,
   "metadata": {},
   "outputs": [],
   "source": [
    "from process_functions import *"
   ]
  },
  {
   "cell_type": "markdown",
   "metadata": {},
   "source": [
    "# <font color='blue'> 0.0 Import & Translate Dataset"
   ]
  },
  {
   "cell_type": "code",
   "execution_count": 3,
   "metadata": {},
   "outputs": [],
   "source": [
    "df=pd.read_csv('wr2.csv')"
   ]
  },
  {
   "cell_type": "code",
   "execution_count": 4,
   "metadata": {},
   "outputs": [],
   "source": [
    "def splitt(str):\n",
    "    return str.split('+')[-1]"
   ]
  },
  {
   "cell_type": "code",
   "execution_count": 5,
   "metadata": {
    "scrolled": true
   },
   "outputs": [
    {
     "data": {
      "text/html": [
       "<div>\n",
       "<style scoped>\n",
       "    .dataframe tbody tr th:only-of-type {\n",
       "        vertical-align: middle;\n",
       "    }\n",
       "\n",
       "    .dataframe tbody tr th {\n",
       "        vertical-align: top;\n",
       "    }\n",
       "\n",
       "    .dataframe thead th {\n",
       "        text-align: right;\n",
       "    }\n",
       "</style>\n",
       "<table border=\"1\" class=\"dataframe\">\n",
       "  <thead>\n",
       "    <tr style=\"text-align: right;\">\n",
       "      <th></th>\n",
       "      <th>ANSWER ID</th>\n",
       "      <th>METRIC NAME</th>\n",
       "      <th>COMPANY NAME</th>\n",
       "      <th>YEAR</th>\n",
       "      <th>VALUE</th>\n",
       "    </tr>\n",
       "  </thead>\n",
       "  <tbody>\n",
       "    <tr>\n",
       "      <th>0</th>\n",
       "      <td>2233010.0</td>\n",
       "      <td>Gross Profit</td>\n",
       "      <td>Danaher</td>\n",
       "      <td>2012</td>\n",
       "      <td>9414300000</td>\n",
       "    </tr>\n",
       "    <tr>\n",
       "      <th>1</th>\n",
       "      <td>2233013.0</td>\n",
       "      <td>Gross Profit</td>\n",
       "      <td>Danaher</td>\n",
       "      <td>2015</td>\n",
       "      <td>10762500000</td>\n",
       "    </tr>\n",
       "    <tr>\n",
       "      <th>2</th>\n",
       "      <td>2233016.0</td>\n",
       "      <td>Gross Profit</td>\n",
       "      <td>Danaher</td>\n",
       "      <td>2014</td>\n",
       "      <td>9892600000</td>\n",
       "    </tr>\n",
       "    <tr>\n",
       "      <th>3</th>\n",
       "      <td>2233001.0</td>\n",
       "      <td>Gross Profit</td>\n",
       "      <td>Danaher</td>\n",
       "      <td>2011</td>\n",
       "      <td>8176600000</td>\n",
       "    </tr>\n",
       "    <tr>\n",
       "      <th>4</th>\n",
       "      <td>2233004.0</td>\n",
       "      <td>Gross Profit</td>\n",
       "      <td>Danaher</td>\n",
       "      <td>2010</td>\n",
       "      <td>6404500000</td>\n",
       "    </tr>\n",
       "  </tbody>\n",
       "</table>\n",
       "</div>"
      ],
      "text/plain": [
       "   ANSWER ID   METRIC NAME COMPANY NAME  YEAR        VALUE\n",
       "0  2233010.0  Gross Profit      Danaher  2012   9414300000\n",
       "1  2233013.0  Gross Profit      Danaher  2015  10762500000\n",
       "2  2233016.0  Gross Profit      Danaher  2014   9892600000\n",
       "3  2233001.0  Gross Profit      Danaher  2011   8176600000\n",
       "4  2233004.0  Gross Profit      Danaher  2010   6404500000"
      ]
     },
     "execution_count": 5,
     "metadata": {},
     "output_type": "execute_result"
    }
   ],
   "source": [
    "df=pd.read_csv('wr2.csv')\n",
    "df[\"METRIC NAME\"]=df[\"METRIC NAME\"].apply(lambda x:splitt(x))\n",
    "df.to_csv('NEW_RATE.csv')\n",
    "df.head(5)"
   ]
  },
  {
   "cell_type": "markdown",
   "metadata": {},
   "source": [
    "# <font color='blue'>1.0 Test (only sending 5 questions out)"
   ]
  },
  {
   "cell_type": "markdown",
   "metadata": {},
   "source": [
    "### this is the english version survey: \n",
    "remember to use missing_value_<font color ='red'>en"
   ]
  },
  {
   "cell_type": "code",
   "execution_count": 6,
   "metadata": {},
   "outputs": [
    {
     "data": {
      "text/html": [
       "<div>\n",
       "<style scoped>\n",
       "    .dataframe tbody tr th:only-of-type {\n",
       "        vertical-align: middle;\n",
       "    }\n",
       "\n",
       "    .dataframe tbody tr th {\n",
       "        vertical-align: top;\n",
       "    }\n",
       "\n",
       "    .dataframe thead th {\n",
       "        text-align: right;\n",
       "    }\n",
       "</style>\n",
       "<table border=\"1\" class=\"dataframe\">\n",
       "  <thead>\n",
       "    <tr style=\"text-align: right;\">\n",
       "      <th></th>\n",
       "      <th>ANSWER ID</th>\n",
       "      <th>METRIC NAME</th>\n",
       "      <th>COMPANY NAME</th>\n",
       "      <th>YEAR</th>\n",
       "      <th>VALUE</th>\n",
       "      <th>SURVEY QUESTIONS</th>\n",
       "      <th>QUESTIONID</th>\n",
       "    </tr>\n",
       "  </thead>\n",
       "  <tbody>\n",
       "    <tr>\n",
       "      <th>0</th>\n",
       "      <td>3579791.0</td>\n",
       "      <td>Fuel consumption from renewable sources (G4-EN...</td>\n",
       "      <td>Telenor</td>\n",
       "      <td>2017</td>\n",
       "      <td>Unknown</td>\n",
       "      <td>Do you have answer to Fuel consumption from re...</td>\n",
       "      <td>201723200338</td>\n",
       "    </tr>\n",
       "    <tr>\n",
       "      <th>1</th>\n",
       "      <td>3579834.0</td>\n",
       "      <td>Fuel consumption from non-renewable sources (G...</td>\n",
       "      <td>Telenor</td>\n",
       "      <td>2017</td>\n",
       "      <td>Unknown</td>\n",
       "      <td>Do you have answer to Fuel consumption from no...</td>\n",
       "      <td>201723200337</td>\n",
       "    </tr>\n",
       "    <tr>\n",
       "      <th>2</th>\n",
       "      <td>NaN</td>\n",
       "      <td>Percentage renewable fuel used</td>\n",
       "      <td>Telenor</td>\n",
       "      <td>2017</td>\n",
       "      <td>Unknown</td>\n",
       "      <td>Do you have answer to Percentage renewable fue...</td>\n",
       "      <td>201723200671</td>\n",
       "    </tr>\n",
       "    <tr>\n",
       "      <th>3</th>\n",
       "      <td>NaN</td>\n",
       "      <td>Renewable Energy (%)</td>\n",
       "      <td>Telenor</td>\n",
       "      <td>2017</td>\n",
       "      <td>Unknown</td>\n",
       "      <td>Do you have answer to Renewable Energy (%)? If...</td>\n",
       "      <td>201723200733</td>\n",
       "    </tr>\n",
       "    <tr>\n",
       "      <th>4</th>\n",
       "      <td>NaN</td>\n",
       "      <td>energy is from renewable sources</td>\n",
       "      <td>Telenor</td>\n",
       "      <td>2017</td>\n",
       "      <td>Unknown</td>\n",
       "      <td>Do you have answer to energy is from renewable...</td>\n",
       "      <td>201723201094</td>\n",
       "    </tr>\n",
       "  </tbody>\n",
       "</table>\n",
       "</div>"
      ],
      "text/plain": [
       "   ANSWER ID                                        METRIC NAME COMPANY NAME  \\\n",
       "0  3579791.0  Fuel consumption from renewable sources (G4-EN...      Telenor   \n",
       "1  3579834.0  Fuel consumption from non-renewable sources (G...      Telenor   \n",
       "2        NaN                     Percentage renewable fuel used      Telenor   \n",
       "3        NaN                               Renewable Energy (%)      Telenor   \n",
       "4        NaN                   energy is from renewable sources      Telenor   \n",
       "\n",
       "   YEAR    VALUE                                   SURVEY QUESTIONS  \\\n",
       "0  2017  Unknown  Do you have answer to Fuel consumption from re...   \n",
       "1  2017  Unknown  Do you have answer to Fuel consumption from no...   \n",
       "2  2017  Unknown  Do you have answer to Percentage renewable fue...   \n",
       "3  2017  Unknown  Do you have answer to Renewable Energy (%)? If...   \n",
       "4  2017  Unknown  Do you have answer to energy is from renewable...   \n",
       "\n",
       "     QUESTIONID  \n",
       "0  201723200338  \n",
       "1  201723200337  \n",
       "2  201723200671  \n",
       "3  201723200733  \n",
       "4  201723201094  "
      ]
     },
     "execution_count": 6,
     "metadata": {},
     "output_type": "execute_result"
    }
   ],
   "source": [
    "table0 = missing_value_en(df,2017,'Telenor')\n",
    "testing_dataset = table0[0]\n",
    "questions_list = table0[1]\n",
    "recipients_df = table0[2]\n",
    "testing_dataset.head()"
   ]
  },
  {
   "cell_type": "code",
   "execution_count": 7,
   "metadata": {},
   "outputs": [
    {
     "data": {
      "text/plain": [
       "27"
      ]
     },
     "execution_count": 7,
     "metadata": {},
     "output_type": "execute_result"
    }
   ],
   "source": [
    "len(questions_list)"
   ]
  },
  {
   "cell_type": "markdown",
   "metadata": {},
   "source": [
    "## test with 5 questions\n",
    "* Create a new testing recipients_df that contains my own email"
   ]
  },
  {
   "cell_type": "code",
   "execution_count": null,
   "metadata": {},
   "outputs": [],
   "source": [
    "testing_question = questions_list[0:5]"
   ]
  },
  {
   "cell_type": "markdown",
   "metadata": {},
   "source": [
    "## Create a testing recipients_df using personal emails"
   ]
  },
  {
   "cell_type": "code",
   "execution_count": 8,
   "metadata": {},
   "outputs": [
    {
     "data": {
      "text/html": [
       "<div>\n",
       "<style scoped>\n",
       "    .dataframe tbody tr th:only-of-type {\n",
       "        vertical-align: middle;\n",
       "    }\n",
       "\n",
       "    .dataframe tbody tr th {\n",
       "        vertical-align: top;\n",
       "    }\n",
       "\n",
       "    .dataframe thead th {\n",
       "        text-align: right;\n",
       "    }\n",
       "</style>\n",
       "<table border=\"1\" class=\"dataframe\">\n",
       "  <thead>\n",
       "    <tr style=\"text-align: right;\">\n",
       "      <th></th>\n",
       "      <th>email</th>\n",
       "      <th>first_name</th>\n",
       "      <th>last_name</th>\n",
       "    </tr>\n",
       "  </thead>\n",
       "  <tbody>\n",
       "    <tr>\n",
       "      <th>2320</th>\n",
       "      <td>telenor@gmail.com</td>\n",
       "      <td></td>\n",
       "      <td></td>\n",
       "    </tr>\n",
       "  </tbody>\n",
       "</table>\n",
       "</div>"
      ],
      "text/plain": [
       "                  email first_name last_name\n",
       "2320  telenor@gmail.com                     "
      ]
     },
     "execution_count": 8,
     "metadata": {},
     "output_type": "execute_result"
    }
   ],
   "source": [
    "recipients_df"
   ]
  },
  {
   "cell_type": "code",
   "execution_count": 13,
   "metadata": {},
   "outputs": [],
   "source": [
    "data = [['ohnoyeahjin1199@hotmail.com','X','Yao']]\n",
    "t_recipients_df = pd.DataFrame(data=data, columns=['email','first_name','last_name'])"
   ]
  },
  {
   "cell_type": "code",
   "execution_count": 14,
   "metadata": {},
   "outputs": [
    {
     "data": {
      "text/html": [
       "<div>\n",
       "<style scoped>\n",
       "    .dataframe tbody tr th:only-of-type {\n",
       "        vertical-align: middle;\n",
       "    }\n",
       "\n",
       "    .dataframe tbody tr th {\n",
       "        vertical-align: top;\n",
       "    }\n",
       "\n",
       "    .dataframe thead th {\n",
       "        text-align: right;\n",
       "    }\n",
       "</style>\n",
       "<table border=\"1\" class=\"dataframe\">\n",
       "  <thead>\n",
       "    <tr style=\"text-align: right;\">\n",
       "      <th></th>\n",
       "      <th>email</th>\n",
       "      <th>first_name</th>\n",
       "      <th>last_name</th>\n",
       "    </tr>\n",
       "  </thead>\n",
       "  <tbody>\n",
       "    <tr>\n",
       "      <th>0</th>\n",
       "      <td>ohnoyeahjin1199@hotmail.com</td>\n",
       "      <td>oh</td>\n",
       "      <td>no</td>\n",
       "    </tr>\n",
       "  </tbody>\n",
       "</table>\n",
       "</div>"
      ],
      "text/plain": [
       "                         email first_name last_name\n",
       "0  ohnoyeahjin1199@hotmail.com         oh        no"
      ]
     },
     "execution_count": 14,
     "metadata": {},
     "output_type": "execute_result"
    }
   ],
   "source": [
    "t_recipients_df"
   ]
  },
  {
   "cell_type": "markdown",
   "metadata": {},
   "source": [
    "## Apply functions"
   ]
  },
  {
   "cell_type": "code",
   "execution_count": 16,
   "metadata": {},
   "outputs": [
    {
     "name": "stdout",
     "output_type": "stream",
     "text": [
      "survey id: 182831394\n",
      "page id: 85297755\n",
      "question id: 310454001\n",
      "question id: 310454012\n",
      "question id: 310454015\n",
      "question id: 310454018\n",
      "question id: 310454025\n",
      "collector id: 240746638\n",
      "message id: 63079306\n"
     ]
    }
   ],
   "source": [
    "testing_results=process('test_survey', testing_question, t_recipients_df)"
   ]
  },
  {
   "cell_type": "code",
   "execution_count": 17,
   "metadata": {
    "scrolled": true
   },
   "outputs": [
    {
     "data": {
      "text/html": [
       "<div>\n",
       "<style scoped>\n",
       "    .dataframe tbody tr th:only-of-type {\n",
       "        vertical-align: middle;\n",
       "    }\n",
       "\n",
       "    .dataframe tbody tr th {\n",
       "        vertical-align: top;\n",
       "    }\n",
       "\n",
       "    .dataframe thead th {\n",
       "        text-align: right;\n",
       "    }\n",
       "</style>\n",
       "<table border=\"1\" class=\"dataframe\">\n",
       "  <thead>\n",
       "    <tr style=\"text-align: right;\">\n",
       "      <th></th>\n",
       "      <th>Do you have answer to Fuel consumption from renewable sources (G4-EN3-b)? If yes, please specify; if no,please leave the question blank</th>\n",
       "      <th>Do you have answer to Fuel consumption from non-renewable sources (G4-EN3-a)? If yes, please specify; if no,please leave the question blank</th>\n",
       "      <th>Do you have answer to Percentage renewable fuel used? If yes, please specify; if no,please leave the question blank</th>\n",
       "      <th>collector_id</th>\n",
       "      <th>date_created</th>\n",
       "      <th>date_modified</th>\n",
       "      <th>email_address</th>\n",
       "      <th>first_name</th>\n",
       "      <th>id</th>\n",
       "      <th>ip_address</th>\n",
       "      <th>last_name</th>\n",
       "      <th>survey_id</th>\n",
       "    </tr>\n",
       "  </thead>\n",
       "  <tbody>\n",
       "    <tr>\n",
       "      <th>X_Yao_Response</th>\n",
       "      <td>oh</td>\n",
       "      <td>no</td>\n",
       "      <td>yes</td>\n",
       "      <td>240746638</td>\n",
       "      <td>2019-07-10T20:47:46+00:00</td>\n",
       "      <td>2019-07-10T20:48:00+00:00</td>\n",
       "      <td>ohnoyeahjin1199@hotmail.com</td>\n",
       "      <td>X</td>\n",
       "      <td>10851683122</td>\n",
       "      <td>4.35.91.70</td>\n",
       "      <td>Yao</td>\n",
       "      <td>182831394</td>\n",
       "    </tr>\n",
       "  </tbody>\n",
       "</table>\n",
       "</div>"
      ],
      "text/plain": [
       "               Do you have answer to Fuel consumption from renewable sources (G4-EN3-b)? If yes, please specify; if no,please leave the question blank  \\\n",
       "X_Yao_Response                                                 oh                                                                                        \n",
       "\n",
       "               Do you have answer to Fuel consumption from non-renewable sources (G4-EN3-a)? If yes, please specify; if no,please leave the question blank  \\\n",
       "X_Yao_Response                                                 no                                                                                            \n",
       "\n",
       "               Do you have answer to Percentage renewable fuel used? If yes, please specify; if no,please leave the question blank  \\\n",
       "X_Yao_Response                                                yes                                                                    \n",
       "\n",
       "               collector_id               date_created  \\\n",
       "X_Yao_Response    240746638  2019-07-10T20:47:46+00:00   \n",
       "\n",
       "                            date_modified                email_address  \\\n",
       "X_Yao_Response  2019-07-10T20:48:00+00:00  ohnoyeahjin1199@hotmail.com   \n",
       "\n",
       "               first_name           id  ip_address last_name  survey_id  \n",
       "X_Yao_Response          X  10851683122  4.35.91.70       Yao  182831394  "
      ]
     },
     "execution_count": 17,
     "metadata": {},
     "output_type": "execute_result"
    }
   ],
   "source": [
    "result_answer=after_survey(testing_results)\n",
    "result_answer"
   ]
  },
  {
   "cell_type": "code",
   "execution_count": 18,
   "metadata": {
    "scrolled": false
   },
   "outputs": [
    {
     "data": {
      "text/html": [
       "<div>\n",
       "<style scoped>\n",
       "    .dataframe tbody tr th:only-of-type {\n",
       "        vertical-align: middle;\n",
       "    }\n",
       "\n",
       "    .dataframe tbody tr th {\n",
       "        vertical-align: top;\n",
       "    }\n",
       "\n",
       "    .dataframe thead th {\n",
       "        text-align: right;\n",
       "    }\n",
       "</style>\n",
       "<table border=\"1\" class=\"dataframe\">\n",
       "  <thead>\n",
       "    <tr style=\"text-align: right;\">\n",
       "      <th></th>\n",
       "      <th>SURVEY QUESTIONS</th>\n",
       "      <th>COMPANY NAME</th>\n",
       "      <th>YEAR</th>\n",
       "      <th>QUESTIONID</th>\n",
       "      <th>X_Yao_Response</th>\n",
       "    </tr>\n",
       "  </thead>\n",
       "  <tbody>\n",
       "    <tr>\n",
       "      <th>0</th>\n",
       "      <td>Do you have answer to Fuel consumption from no...</td>\n",
       "      <td>Telenor</td>\n",
       "      <td>2017</td>\n",
       "      <td>201723200337</td>\n",
       "      <td>no</td>\n",
       "    </tr>\n",
       "    <tr>\n",
       "      <th>1</th>\n",
       "      <td>Do you have answer to Fuel consumption from re...</td>\n",
       "      <td>Telenor</td>\n",
       "      <td>2017</td>\n",
       "      <td>201723200338</td>\n",
       "      <td>oh</td>\n",
       "    </tr>\n",
       "    <tr>\n",
       "      <th>2</th>\n",
       "      <td>Do you have answer to Percentage renewable fue...</td>\n",
       "      <td>Telenor</td>\n",
       "      <td>2017</td>\n",
       "      <td>201723200671</td>\n",
       "      <td>yes</td>\n",
       "    </tr>\n",
       "    <tr>\n",
       "      <th>3</th>\n",
       "      <td>Do you have answer to Renewable Energy (%)? If...</td>\n",
       "      <td>Telenor</td>\n",
       "      <td>2017</td>\n",
       "      <td>201723200733</td>\n",
       "      <td>NaN</td>\n",
       "    </tr>\n",
       "    <tr>\n",
       "      <th>4</th>\n",
       "      <td>Do you have answer to energy is from renewable...</td>\n",
       "      <td>Telenor</td>\n",
       "      <td>2017</td>\n",
       "      <td>201723201094</td>\n",
       "      <td>NaN</td>\n",
       "    </tr>\n",
       "  </tbody>\n",
       "</table>\n",
       "</div>"
      ],
      "text/plain": [
       "                                    SURVEY QUESTIONS COMPANY NAME  YEAR  \\\n",
       "0  Do you have answer to Fuel consumption from no...      Telenor  2017   \n",
       "1  Do you have answer to Fuel consumption from re...      Telenor  2017   \n",
       "2  Do you have answer to Percentage renewable fue...      Telenor  2017   \n",
       "3  Do you have answer to Renewable Energy (%)? If...      Telenor  2017   \n",
       "4  Do you have answer to energy is from renewable...      Telenor  2017   \n",
       "\n",
       "     QUESTIONID X_Yao_Response  \n",
       "0  201723200337             no  \n",
       "1  201723200338             oh  \n",
       "2  201723200671            yes  \n",
       "3  201723200733            NaN  \n",
       "4  201723201094            NaN  "
      ]
     },
     "execution_count": 18,
     "metadata": {},
     "output_type": "execute_result"
    }
   ],
   "source": [
    "result_table = result_table(testing_dataset, result_answer, testing_question)\n",
    "result_table"
   ]
  },
  {
   "cell_type": "code",
   "execution_count": null,
   "metadata": {},
   "outputs": [],
   "source": []
  }
 ],
 "metadata": {
  "kernelspec": {
   "display_name": "Python 3",
   "language": "python",
   "name": "python3"
  },
  "language_info": {
   "codemirror_mode": {
    "name": "ipython",
    "version": 3
   },
   "file_extension": ".py",
   "mimetype": "text/x-python",
   "name": "python",
   "nbconvert_exporter": "python",
   "pygments_lexer": "ipython3",
   "version": "3.6.5"
  }
 },
 "nbformat": 4,
 "nbformat_minor": 2
}
